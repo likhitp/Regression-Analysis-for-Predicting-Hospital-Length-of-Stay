{
 "cells": [
  {
   "cell_type": "markdown",
   "metadata": {},
   "source": [
    "1. Data Preprocessing\n",
    "prepare the data for modeling, including dropping unnecessary columns, encoding categorical variables, and splitting the data."
   ]
  },
  {
   "cell_type": "code",
   "execution_count": 1,
   "metadata": {},
   "outputs": [],
   "source": [
    "import pandas as pd\n",
    "from sklearn.model_selection import train_test_split\n",
    "from sklearn.preprocessing import OneHotEncoder\n",
    "from sklearn.compose import ColumnTransformer"
   ]
  },
  {
   "cell_type": "code",
   "execution_count": 2,
   "metadata": {},
   "outputs": [
    {
     "name": "stdout",
     "output_type": "stream",
     "text": [
      "   Serial Number Admission Number Date of Admission Date of Discharge  AGE  \\\n",
      "0              1           234735          4/1/2017          4/3/2017   81   \n",
      "1              2           234696          4/1/2017          4/5/2017   65   \n",
      "2              3           234882          4/1/2017          4/3/2017   53   \n",
      "3              4           234635          4/1/2017          4/8/2017   67   \n",
      "4              5           234486          4/1/2017         4/23/2017   60   \n",
      "\n",
      "  GENDER RURAL(R) /Urban(U) TYPE OF ADMISSION-EMERGENCY/OPD month year  \\\n",
      "0      M                  R                               E     Apr-17   \n",
      "1      M                  R                               E     Apr-17   \n",
      "2      M                  U                               E     Apr-17   \n",
      "3      F                  U                               E     Apr-17   \n",
      "4      F                  U                               E     Apr-17   \n",
      "\n",
      "   DURATION OF STAY  ...  Congenital Heart Disease Urinary tract infection  \\\n",
      "0                 3  ...                     False                   False   \n",
      "1                 5  ...                     False                   False   \n",
      "2                 3  ...                     False                   False   \n",
      "3                 8  ...                     False                   False   \n",
      "4                23  ...                     False                   False   \n",
      "\n",
      "   NEURO CARDIOGENIC SYNCOPE  ORTHOSTATIC  INFECTIVE ENDOCARDITIS  \\\n",
      "0                      False        False                   False   \n",
      "1                      False        False                   False   \n",
      "2                      False        False                   False   \n",
      "3                      False        False                   False   \n",
      "4                      False        False                   False   \n",
      "\n",
      "   Deep venous thrombosis  CARDIOGENIC SHOCK  SHOCK  PULMONARY EMBOLISM  \\\n",
      "0                   False              False  False               False   \n",
      "1                   False              False  False               False   \n",
      "2                   False              False  False               False   \n",
      "3                   False              False  False               False   \n",
      "4                   False              False  False               False   \n",
      "\n",
      "   CHEST INFECTION  \n",
      "0            False  \n",
      "1            False  \n",
      "2            False  \n",
      "3            False  \n",
      "4            False  \n",
      "\n",
      "[5 rows x 56 columns]\n"
     ]
    }
   ],
   "source": [
    "# Load your dataset\n",
    "df = pd.read_csv('modified_output.csv')  # Replace 'your_dataset.csv' with the path to your dataset\n",
    "#print(df.dtypes)\n",
    "print(df.head())\n",
    "#print(f\"{col}:\\nUnique values: {df[col].unique()}\\n\")\n",
    "categorical_features = ['GENDER', 'RURAL(R) /Urban(U)', 'TYPE OF ADMISSION-EMERGENCY/OPD', 'OUTCOME']\n",
    "# Drop unnecessary columns\n",
    "df = df.drop(['Serial Number', 'Admission Number', 'Date of Admission', 'Date of Discharge', 'month year'], axis=1)\n",
    "\n",
    "# Separate categorical and non-categorical columns\n",
    "non_categorical_df = df.drop(columns=categorical_features)\n",
    "categorical_df = df[categorical_features]\n",
    "\n",
    "# Encode categorical variables\n",
    "one_hot = OneHotEncoder()\n",
    "one_hot_df = pd.DataFrame(one_hot.fit_transform(categorical_df).toarray(), columns=one_hot.get_feature_names_out(categorical_features))\n",
    "\n",
    "# Concatenate the one-hot encoded columns to non-categorical columns\n",
    "transformed_df = pd.concat([non_categorical_df, one_hot_df], axis=1)\n"
   ]
  },
  {
   "cell_type": "code",
   "execution_count": 3,
   "metadata": {},
   "outputs": [
    {
     "name": "stdout",
     "output_type": "stream",
     "text": [
      "AGE                                               int64\n",
      "DURATION OF STAY                                  int64\n",
      "duration of intensive unit stay                   int64\n",
      "SMOKING                                            bool\n",
      "ALCOHOL                                            bool\n",
      "Diabetes Mellitus                                  bool\n",
      "Hypertension                                       bool\n",
      "Coronary Artery Disease                            bool\n",
      "CARDIOMYOPATHY                                     bool\n",
      "CHRONIC KIDNEY DISEASE                             bool\n",
      "Haemoglobin                                     float64\n",
      "TOTAL LEUKOCYTES COUNT                          float64\n",
      "PLATELETS                                       float64\n",
      "GLUCOSE                                         float64\n",
      "UREA                                            float64\n",
      "CREATININE                                      float64\n",
      "B-TYPE NATRIURETIC PEPTIDE                      float64\n",
      "RAISED CARDIAC ENZYMES                             bool\n",
      "Ejection Fraction                               float64\n",
      "SEVERE ANAEMIA                                     bool\n",
      "ANAEMIA                                            bool\n",
      "STABLE ANGINA                                      bool\n",
      "Acute coronary Syndrome                            bool\n",
      "ST ELEVATION MYOCARDIAL INFARCTION                 bool\n",
      "ATYPICAL CHEST PAIN                                bool\n",
      "HEART FAILURE                                      bool\n",
      "HEART FAILURE WITH REDUCED EJECTION FRACTION       bool\n",
      "HEART FAILURE WITH NORMAL EJECTION FRACTION        bool\n",
      "Valvular Heart Disease                             bool\n",
      "Complete Heart Block                               bool\n",
      "Sick sinus syndrome                                bool\n",
      "ACUTE KIDNEY INJURY                                bool\n",
      "Cerebrovascular Accident INFRACT                   bool\n",
      "Cerebrovascular Accident BLEED                     bool\n",
      "Atrial Fibrilation                                 bool\n",
      "Ventricular Tachycardia                            bool\n",
      "PAROXYSMAL SUPRA VENTRICULAR TACHYCARDIA           bool\n",
      "Congenital Heart Disease                           bool\n",
      "Urinary tract infection                            bool\n",
      "NEURO CARDIOGENIC SYNCOPE                          bool\n",
      "ORTHOSTATIC                                        bool\n",
      "INFECTIVE ENDOCARDITIS                             bool\n",
      "Deep venous thrombosis                             bool\n",
      "CARDIOGENIC SHOCK                                  bool\n",
      "SHOCK                                              bool\n",
      "PULMONARY EMBOLISM                                 bool\n",
      "CHEST INFECTION                                    bool\n",
      "GENDER_F                                        float64\n",
      "GENDER_M                                        float64\n",
      "RURAL(R) /Urban(U)_R                            float64\n",
      "RURAL(R) /Urban(U)_U                            float64\n",
      "TYPE OF ADMISSION-EMERGENCY/OPD_E               float64\n",
      "TYPE OF ADMISSION-EMERGENCY/OPD_O               float64\n",
      "OUTCOME_DAMA                                    float64\n",
      "OUTCOME_DISCHARGE                               float64\n",
      "OUTCOME_EXPIRY                                  float64\n",
      "dtype: object\n"
     ]
    }
   ],
   "source": [
    "transformed_df.columns\n",
    "print(transformed_df.dtypes)\n"
   ]
  },
  {
   "cell_type": "markdown",
   "metadata": {},
   "source": [
    "Remove rows where 'one_hot__OUTCOME_DAMA' is present, you can do so by using a boolean mask. and delate the data "
   ]
  },
  {
   "cell_type": "code",
   "execution_count": 4,
   "metadata": {},
   "outputs": [],
   "source": [
    "transformed_df = transformed_df[transformed_df['OUTCOME_DAMA'] == 0]\n",
    "transformed_df = transformed_df.drop(['OUTCOME_DAMA'], axis=1)\n",
    "transformed_df = transformed_df.dropna()"
   ]
  },
  {
   "cell_type": "code",
   "execution_count": 5,
   "metadata": {},
   "outputs": [
    {
     "name": "stdout",
     "output_type": "stream",
     "text": [
      "age                                               int64\n",
      "duration_of_stay                                  int64\n",
      "duration_of_intensive_unit_stay                   int64\n",
      "smoking                                            bool\n",
      "alcohol                                            bool\n",
      "diabetes_mellitus                                  bool\n",
      "hypertension                                       bool\n",
      "coronary_artery_disease                            bool\n",
      "cardiomyopathy                                     bool\n",
      "chronic_kidney_disease                             bool\n",
      "haemoglobin                                     float64\n",
      "total_leukocytes_count                          float64\n",
      "platelets                                       float64\n",
      "glucose                                         float64\n",
      "urea                                            float64\n",
      "creatinine                                      float64\n",
      "b-type_natriuretic_peptide                      float64\n",
      "raised_cardiac_enzymes                             bool\n",
      "ejection_fraction                               float64\n",
      "severe_anaemia                                     bool\n",
      "anaemia                                            bool\n",
      "stable_angina                                      bool\n",
      "acute_coronary_syndrome                            bool\n",
      "st_elevation_myocardial_infarction                 bool\n",
      "atypical_chest_pain                                bool\n",
      "heart_failure                                      bool\n",
      "heart_failure_with_reduced_ejection_fraction       bool\n",
      "heart_failure_with_normal_ejection_fraction        bool\n",
      "valvular_heart_disease                             bool\n",
      "complete_heart_block                               bool\n",
      "sick_sinus_syndrome                                bool\n",
      "acute_kidney_injury                                bool\n",
      "cerebrovascular_accident_infract                   bool\n",
      "cerebrovascular_accident_bleed                     bool\n",
      "atrial_fibrilation                                 bool\n",
      "ventricular_tachycardia                            bool\n",
      "paroxysmal_supra_ventricular_tachycardia           bool\n",
      "congenital_heart_disease                           bool\n",
      "urinary_tract_infection                            bool\n",
      "neuro_cardiogenic_syncope                          bool\n",
      "orthostatic                                        bool\n",
      "infective_endocarditis                             bool\n",
      "deep_venous_thrombosis                             bool\n",
      "cardiogenic_shock                                  bool\n",
      "shock                                              bool\n",
      "pulmonary_embolism                                 bool\n",
      "chest_infection                                    bool\n",
      "gender_f                                        float64\n",
      "gender_m                                        float64\n",
      "rural(r)_/urban(u)_r                            float64\n",
      "rural(r)_/urban(u)_u                            float64\n",
      "type_of_admission-emergency/opd_e               float64\n",
      "type_of_admission-emergency/opd_o               float64\n",
      "outcome_discharge                               float64\n",
      "outcome_expiry                                  float64\n",
      "dtype: object\n",
      "age                                               int64\n",
      "duration_of_stay                                  int64\n",
      "duration_of_intensive_unit_stay                   int64\n",
      "smoking                                            bool\n",
      "alcohol                                            bool\n",
      "diabetes_mellitus                                  bool\n",
      "hypertension                                       bool\n",
      "coronary_artery_disease                            bool\n",
      "cardiomyopathy                                     bool\n",
      "chronic_kidney_disease                             bool\n",
      "haemoglobin                                     float64\n",
      "total_leukocytes_count                          float64\n",
      "platelets                                       float64\n",
      "glucose                                         float64\n",
      "urea                                            float64\n",
      "creatinine                                      float64\n",
      "b-type_natriuretic_peptide                      float64\n",
      "raised_cardiac_enzymes                             bool\n",
      "ejection_fraction                               float64\n",
      "severe_anaemia                                     bool\n",
      "anaemia                                            bool\n",
      "stable_angina                                      bool\n",
      "acute_coronary_syndrome                            bool\n",
      "st_elevation_myocardial_infarction                 bool\n",
      "atypical_chest_pain                                bool\n",
      "heart_failure                                      bool\n",
      "heart_failure_with_reduced_ejection_fraction       bool\n",
      "heart_failure_with_normal_ejection_fraction        bool\n",
      "valvular_heart_disease                             bool\n",
      "complete_heart_block                               bool\n",
      "sick_sinus_syndrome                                bool\n",
      "acute_kidney_injury                                bool\n",
      "cerebrovascular_accident_infract                   bool\n",
      "cerebrovascular_accident_bleed                     bool\n",
      "atrial_fibrilation                                 bool\n",
      "ventricular_tachycardia                            bool\n",
      "paroxysmal_supra_ventricular_tachycardia           bool\n",
      "congenital_heart_disease                           bool\n",
      "urinary_tract_infection                            bool\n",
      "neuro_cardiogenic_syncope                          bool\n",
      "orthostatic                                        bool\n",
      "infective_endocarditis                             bool\n",
      "deep_venous_thrombosis                             bool\n",
      "cardiogenic_shock                                  bool\n",
      "shock                                              bool\n",
      "pulmonary_embolism                                 bool\n",
      "chest_infection                                    bool\n",
      "gender_m                                        float64\n",
      "region_u                                        float64\n",
      "type_of_admission_e                             float64\n",
      "outcome_e                                       float64\n",
      "dtype: object\n"
     ]
    }
   ],
   "source": [
    "transformed_df.columns = transformed_df.columns.str.replace(' ', '_')\n",
    "transformed_df.columns = transformed_df.columns.str.lower()\n",
    "print(transformed_df.dtypes)\n",
    "transformed_df = transformed_df.rename(columns={'rural(r)_/urban(u)_u': 'region_u', 'type_of_admission-emergency/opd_e': 'type_of_admission_e', 'outcome_expiry': 'outcome_e'})\n",
    "transformed_df.drop(['gender_f', 'rural(r)_/urban(u)_r', 'type_of_admission-emergency/opd_o', 'outcome_discharge'], axis=1, inplace=True)\n",
    "print(transformed_df.dtypes)"
   ]
  },
  {
   "cell_type": "code",
   "execution_count": 6,
   "metadata": {},
   "outputs": [
    {
     "name": "stdout",
     "output_type": "stream",
     "text": [
      "age                                               int64\n",
      "duration_of_stay                                  int64\n",
      "duration_of_intensive_unit_stay                   int64\n",
      "smoking                                            bool\n",
      "alcohol                                            bool\n",
      "diabetes_mellitus                                  bool\n",
      "hypertension                                       bool\n",
      "coronary_artery_disease                            bool\n",
      "cardiomyopathy                                     bool\n",
      "chronic_kidney_disease                             bool\n",
      "haemoglobin                                     float64\n",
      "total_leukocytes_count                          float64\n",
      "platelets                                       float64\n",
      "glucose                                         float64\n",
      "urea                                            float64\n",
      "creatinine                                      float64\n",
      "b-type_natriuretic_peptide                      float64\n",
      "raised_cardiac_enzymes                             bool\n",
      "ejection_fraction                               float64\n",
      "severe_anaemia                                     bool\n",
      "anaemia                                            bool\n",
      "stable_angina                                      bool\n",
      "acute_coronary_syndrome                            bool\n",
      "st_elevation_myocardial_infarction                 bool\n",
      "atypical_chest_pain                                bool\n",
      "heart_failure                                      bool\n",
      "heart_failure_with_reduced_ejection_fraction       bool\n",
      "heart_failure_with_normal_ejection_fraction        bool\n",
      "valvular_heart_disease                             bool\n",
      "complete_heart_block                               bool\n",
      "sick_sinus_syndrome                                bool\n",
      "acute_kidney_injury                                bool\n",
      "cerebrovascular_accident_infract                   bool\n",
      "cerebrovascular_accident_bleed                     bool\n",
      "atrial_fibrilation                                 bool\n",
      "ventricular_tachycardia                            bool\n",
      "paroxysmal_supra_ventricular_tachycardia           bool\n",
      "congenital_heart_disease                           bool\n",
      "urinary_tract_infection                            bool\n",
      "neuro_cardiogenic_syncope                          bool\n",
      "orthostatic                                        bool\n",
      "infective_endocarditis                             bool\n",
      "deep_venous_thrombosis                             bool\n",
      "cardiogenic_shock                                  bool\n",
      "shock                                              bool\n",
      "pulmonary_embolism                                 bool\n",
      "chest_infection                                    bool\n",
      "gender_m                                          int64\n",
      "region_u                                          int64\n",
      "type_of_admission_e                               int64\n",
      "outcome_e                                         int64\n",
      "dtype: object\n"
     ]
    }
   ],
   "source": [
    "for col in ['gender_m', 'region_u', 'type_of_admission_e', 'outcome_e']:\n",
    "    transformed_df[col] = transformed_df[col].astype('int64')\n",
    "    \n",
    "print(transformed_df.dtypes)"
   ]
  },
  {
   "cell_type": "code",
   "execution_count": 7,
   "metadata": {},
   "outputs": [],
   "source": [
    "transformed_df.to_csv('clean_data_hospital.csv', index=False)"
   ]
  },
  {
   "cell_type": "code",
   "execution_count": 8,
   "metadata": {},
   "outputs": [
    {
     "name": "stdout",
     "output_type": "stream",
     "text": [
      "Index(['age', 'duration_of_stay', 'duration_of_intensive_unit_stay', 'smoking',\n",
      "       'alcohol', 'diabetes_mellitus', 'hypertension',\n",
      "       'coronary_artery_disease', 'cardiomyopathy', 'chronic_kidney_disease',\n",
      "       'haemoglobin', 'total_leukocytes_count', 'platelets', 'glucose', 'urea',\n",
      "       'creatinine', 'b-type_natriuretic_peptide', 'raised_cardiac_enzymes',\n",
      "       'ejection_fraction', 'severe_anaemia', 'anaemia', 'stable_angina',\n",
      "       'acute_coronary_syndrome', 'st_elevation_myocardial_infarction',\n",
      "       'atypical_chest_pain', 'heart_failure',\n",
      "       'heart_failure_with_reduced_ejection_fraction',\n",
      "       'heart_failure_with_normal_ejection_fraction', 'valvular_heart_disease',\n",
      "       'complete_heart_block', 'sick_sinus_syndrome', 'acute_kidney_injury',\n",
      "       'cerebrovascular_accident_infract', 'cerebrovascular_accident_bleed',\n",
      "       'atrial_fibrilation', 'ventricular_tachycardia',\n",
      "       'paroxysmal_supra_ventricular_tachycardia', 'congenital_heart_disease',\n",
      "       'urinary_tract_infection', 'neuro_cardiogenic_syncope', 'orthostatic',\n",
      "       'infective_endocarditis', 'deep_venous_thrombosis', 'cardiogenic_shock',\n",
      "       'shock', 'pulmonary_embolism', 'chest_infection', 'gender_m',\n",
      "       'region_u', 'type_of_admission_e', 'outcome_e'],\n",
      "      dtype='object')\n"
     ]
    }
   ],
   "source": [
    "print(transformed_df.columns)"
   ]
  },
  {
   "cell_type": "code",
   "execution_count": 9,
   "metadata": {},
   "outputs": [
    {
     "name": "stdout",
     "output_type": "stream",
     "text": [
      "age:\n",
      "Min: 4\n",
      "Max: 110\n",
      "\n",
      "duration_of_stay:\n",
      "Min: 1\n",
      "Max: 98\n",
      "\n",
      "duration_of_intensive_unit_stay:\n",
      "Min: 0\n",
      "Max: 58\n",
      "\n",
      "smoking:\n",
      "Unique values: [False  True]\n",
      "\n",
      "alcohol:\n",
      "Unique values: [False  True]\n",
      "\n",
      "diabetes_mellitus:\n",
      "Unique values: [ True False]\n",
      "\n",
      "hypertension:\n",
      "Unique values: [False  True]\n",
      "\n",
      "coronary_artery_disease:\n",
      "Unique values: [False  True]\n",
      "\n",
      "cardiomyopathy:\n",
      "Unique values: [False  True]\n",
      "\n",
      "chronic_kidney_disease:\n",
      "Unique values: [False  True]\n",
      "\n",
      "haemoglobin:\n",
      "Min: 3.0\n",
      "Max: 22.0\n",
      "\n",
      "total_leukocytes_count:\n",
      "Min: 0.1\n",
      "Max: 261.0\n",
      "\n",
      "platelets:\n",
      "Min: 1.38\n",
      "Max: 1179.0\n",
      "\n",
      "glucose:\n",
      "Min: 0.0\n",
      "Max: 888.0\n",
      "\n",
      "urea:\n",
      "Min: 0.1\n",
      "Max: 479.0\n",
      "\n",
      "creatinine:\n",
      "Min: 0.065\n",
      "Max: 15.63\n",
      "\n",
      "b-type_natriuretic_peptide:\n",
      "Min: 0.0\n",
      "Max: 5000.0\n",
      "\n",
      "raised_cardiac_enzymes:\n",
      "Unique values: [ True False]\n",
      "\n",
      "ejection_fraction:\n",
      "Min: 0.0\n",
      "Max: 60.0\n",
      "\n",
      "severe_anaemia:\n",
      "Unique values: [False  True]\n",
      "\n",
      "anaemia:\n",
      "Unique values: [ True False]\n",
      "\n",
      "stable_angina:\n",
      "Unique values: [False  True]\n",
      "\n",
      "acute_coronary_syndrome:\n",
      "Unique values: [ True False]\n",
      "\n",
      "st_elevation_myocardial_infarction:\n",
      "Unique values: [False  True]\n",
      "\n",
      "atypical_chest_pain:\n",
      "Unique values: [False  True]\n",
      "\n",
      "heart_failure:\n",
      "Unique values: [ True False]\n",
      "\n",
      "heart_failure_with_reduced_ejection_fraction:\n",
      "Unique values: [ True False]\n",
      "\n",
      "heart_failure_with_normal_ejection_fraction:\n",
      "Unique values: [False  True]\n",
      "\n",
      "valvular_heart_disease:\n",
      "Unique values: [False  True]\n",
      "\n",
      "complete_heart_block:\n",
      "Unique values: [False  True]\n",
      "\n",
      "sick_sinus_syndrome:\n",
      "Unique values: [False  True]\n",
      "\n",
      "acute_kidney_injury:\n",
      "Unique values: [False  True]\n",
      "\n",
      "cerebrovascular_accident_infract:\n",
      "Unique values: [False  True]\n",
      "\n",
      "cerebrovascular_accident_bleed:\n",
      "Unique values: [False  True]\n",
      "\n",
      "atrial_fibrilation:\n",
      "Unique values: [False  True]\n",
      "\n",
      "ventricular_tachycardia:\n",
      "Unique values: [False  True]\n",
      "\n",
      "paroxysmal_supra_ventricular_tachycardia:\n",
      "Unique values: [False  True]\n",
      "\n",
      "congenital_heart_disease:\n",
      "Unique values: [False  True]\n",
      "\n",
      "urinary_tract_infection:\n",
      "Unique values: [False  True]\n",
      "\n",
      "neuro_cardiogenic_syncope:\n",
      "Unique values: [False  True]\n",
      "\n",
      "orthostatic:\n",
      "Unique values: [False  True]\n",
      "\n",
      "infective_endocarditis:\n",
      "Unique values: [False  True]\n",
      "\n",
      "deep_venous_thrombosis:\n",
      "Unique values: [False  True]\n",
      "\n",
      "cardiogenic_shock:\n",
      "Unique values: [False  True]\n",
      "\n",
      "shock:\n",
      "Unique values: [False  True]\n",
      "\n",
      "pulmonary_embolism:\n",
      "Unique values: [False  True]\n",
      "\n",
      "chest_infection:\n",
      "Unique values: [False  True]\n",
      "\n",
      "gender_m:\n",
      "Min: 0\n",
      "Max: 1\n",
      "\n",
      "region_u:\n",
      "Min: 0\n",
      "Max: 1\n",
      "\n",
      "type_of_admission_e:\n",
      "Min: 0\n",
      "Max: 1\n",
      "\n",
      "outcome_e:\n",
      "Min: 0\n",
      "Max: 1\n",
      "\n"
     ]
    }
   ],
   "source": [
    "for col in transformed_df.columns:\n",
    "    if transformed_df[col].dtype in ['int64', 'float64']:\n",
    "        print(f\"{col}:\\nMin: {transformed_df[col].min()}\\nMax: {transformed_df[col].max()}\\n\")\n",
    "    else:\n",
    "        print(f\"{col}:\\nUnique values: {transformed_df[col].unique()}\\n\")\n",
    "\n"
   ]
  },
  {
   "cell_type": "code",
   "execution_count": 10,
   "metadata": {},
   "outputs": [],
   "source": [
    "from sklearn.model_selection import train_test_split\n",
    "\n",
    "# Split the data\n",
    "if 'duration_of_stay' in transformed_df.columns and 'outcome_e' in transformed_df.columns:\n",
    "    X = transformed_df.drop(['duration_of_stay', 'outcome_e'], axis=1)\n",
    "    y_duration = transformed_df['duration_of_stay']\n",
    "    X_train, X_temp, y_duration_train, y_duration_temp = train_test_split(X, y_duration, test_size=0.3, random_state=42)\n",
    "    \n",
    "    X_val, X_test, y_duration_val, y_duration_test = train_test_split(X_temp, y_duration_temp, test_size=0.5, random_state=42)\n",
    "\n",
    "else:\n",
    "    print(\"Columns 'duration_of_stay' and/or 'outcome_e' not found in the dataframe.\")\n"
   ]
  },
  {
   "cell_type": "markdown",
   "metadata": {},
   "source": [
    "Feature engineering "
   ]
  },
  {
   "cell_type": "code",
   "execution_count": 11,
   "metadata": {},
   "outputs": [],
   "source": [
    "# # Example of creating a new feature, e.g., combining AGE and intensive unit stay duration\n",
    "# X_train['Age_IntensiveStay'] = X_train['AGE'] * X_train['duration of intensive unit stay']\n",
    "# X_val['Age_IntensiveStay'] = X_val['AGE'] * X_val['duration of intensive unit stay']\n",
    "\n",
    "# # You need to retrain your chosen regression model with the new feature set\n",
    "# # Here's how you might retrain the Random Forest as an example\n",
    "# regressor.fit(X_train, y_duration_train)\n",
    "# y_pred_val = regressor.predict(X_val)\n",
    "# mae_new_feature = mean_absolute_error(y_duration_val, y_pred_val)\n",
    "# print(f'New Feature MAE: {mae_new_feature}')"
   ]
  },
  {
   "cell_type": "markdown",
   "metadata": {},
   "source": []
  },
  {
   "cell_type": "markdown",
   "metadata": {},
   "source": [
    "3. Regression Model for Predicting Duration of Stay\n",
    "We'll use a Random Forest Regressor as an example. You can apply similar steps for other regression models.\n"
   ]
  },
  {
   "cell_type": "code",
   "execution_count": 12,
   "metadata": {},
   "outputs": [
    {
     "name": "stdout",
     "output_type": "stream",
     "text": [
      "Mean Absolute Error: 1.781780831739962\n"
     ]
    }
   ],
   "source": [
    "from sklearn.ensemble import RandomForestRegressor\n",
    "from sklearn.metrics import mean_absolute_error\n",
    "\n",
    "# Initialize the model\n",
    "regressor = RandomForestRegressor(random_state=42)\n",
    "\n",
    "# Train the model\n",
    "regressor.fit(X_train, y_duration_train)\n",
    "\n",
    "# Predict on validation set\n",
    "y_pred_val = regressor.predict(X_val)\n",
    "\n",
    "# Evaluate the model\n",
    "mae = mean_absolute_error(y_duration_val, y_pred_val)\n",
    "print(f'Mean Absolute Error: {mae}')"
   ]
  },
  {
   "cell_type": "code",
   "execution_count": 13,
   "metadata": {},
   "outputs": [
    {
     "name": "stdout",
     "output_type": "stream",
     "text": [
      "Fitting 4 folds for each of 100 candidates, totalling 400 fits\n"
     ]
    },
    {
     "name": "stderr",
     "output_type": "stream",
     "text": [
      "C:\\Users\\likhi\\AppData\\Local\\Packages\\PythonSoftwareFoundation.Python.3.11_qbz5n2kfra8p0\\LocalCache\\local-packages\\Python311\\site-packages\\sklearn\\model_selection\\_validation.py:425: FitFailedWarning: \n",
      "120 fits failed out of a total of 400.\n",
      "The score on these train-test partitions for these parameters will be set to nan.\n",
      "If these failures are not expected, you can try to debug them by setting error_score='raise'.\n",
      "\n",
      "Below are more details about the failures:\n",
      "--------------------------------------------------------------------------------\n",
      "78 fits failed with the following error:\n",
      "Traceback (most recent call last):\n",
      "  File \"C:\\Users\\likhi\\AppData\\Local\\Packages\\PythonSoftwareFoundation.Python.3.11_qbz5n2kfra8p0\\LocalCache\\local-packages\\Python311\\site-packages\\sklearn\\model_selection\\_validation.py\", line 732, in _fit_and_score\n",
      "    estimator.fit(X_train, y_train, **fit_params)\n",
      "  File \"C:\\Users\\likhi\\AppData\\Local\\Packages\\PythonSoftwareFoundation.Python.3.11_qbz5n2kfra8p0\\LocalCache\\local-packages\\Python311\\site-packages\\sklearn\\base.py\", line 1144, in wrapper\n",
      "    estimator._validate_params()\n",
      "  File \"C:\\Users\\likhi\\AppData\\Local\\Packages\\PythonSoftwareFoundation.Python.3.11_qbz5n2kfra8p0\\LocalCache\\local-packages\\Python311\\site-packages\\sklearn\\base.py\", line 637, in _validate_params\n",
      "    validate_parameter_constraints(\n",
      "  File \"C:\\Users\\likhi\\AppData\\Local\\Packages\\PythonSoftwareFoundation.Python.3.11_qbz5n2kfra8p0\\LocalCache\\local-packages\\Python311\\site-packages\\sklearn\\utils\\_param_validation.py\", line 95, in validate_parameter_constraints\n",
      "    raise InvalidParameterError(\n",
      "sklearn.utils._param_validation.InvalidParameterError: The 'max_features' parameter of RandomForestRegressor must be an int in the range [1, inf), a float in the range (0.0, 1.0], a str among {'log2', 'sqrt'} or None. Got 'auto' instead.\n",
      "\n",
      "--------------------------------------------------------------------------------\n",
      "42 fits failed with the following error:\n",
      "Traceback (most recent call last):\n",
      "  File \"C:\\Users\\likhi\\AppData\\Local\\Packages\\PythonSoftwareFoundation.Python.3.11_qbz5n2kfra8p0\\LocalCache\\local-packages\\Python311\\site-packages\\sklearn\\model_selection\\_validation.py\", line 732, in _fit_and_score\n",
      "    estimator.fit(X_train, y_train, **fit_params)\n",
      "  File \"C:\\Users\\likhi\\AppData\\Local\\Packages\\PythonSoftwareFoundation.Python.3.11_qbz5n2kfra8p0\\LocalCache\\local-packages\\Python311\\site-packages\\sklearn\\base.py\", line 1144, in wrapper\n",
      "    estimator._validate_params()\n",
      "  File \"C:\\Users\\likhi\\AppData\\Local\\Packages\\PythonSoftwareFoundation.Python.3.11_qbz5n2kfra8p0\\LocalCache\\local-packages\\Python311\\site-packages\\sklearn\\base.py\", line 637, in _validate_params\n",
      "    validate_parameter_constraints(\n",
      "  File \"C:\\Users\\likhi\\AppData\\Local\\Packages\\PythonSoftwareFoundation.Python.3.11_qbz5n2kfra8p0\\LocalCache\\local-packages\\Python311\\site-packages\\sklearn\\utils\\_param_validation.py\", line 95, in validate_parameter_constraints\n",
      "    raise InvalidParameterError(\n",
      "sklearn.utils._param_validation.InvalidParameterError: The 'max_features' parameter of RandomForestRegressor must be an int in the range [1, inf), a float in the range (0.0, 1.0], a str among {'sqrt', 'log2'} or None. Got 'auto' instead.\n",
      "\n",
      "  warnings.warn(some_fits_failed_message, FitFailedWarning)\n",
      "C:\\Users\\likhi\\AppData\\Local\\Packages\\PythonSoftwareFoundation.Python.3.11_qbz5n2kfra8p0\\LocalCache\\local-packages\\Python311\\site-packages\\sklearn\\model_selection\\_search.py:976: UserWarning: One or more of the test scores are non-finite: [0.48613524 0.51432098 0.49271499        nan 0.52054434 0.52109485\n",
      " 0.54317421 0.58515729 0.59858289        nan 0.58541439 0.48990721\n",
      "        nan 0.51757477 0.48166919        nan        nan 0.54448916\n",
      " 0.54142218 0.51937888        nan 0.58473998 0.56766076 0.56136203\n",
      "        nan        nan 0.59518512 0.54334309 0.54340934 0.56904766\n",
      " 0.53386904        nan 0.51757477 0.60035919        nan        nan\n",
      " 0.56415966 0.52241842 0.58947506 0.54310401 0.58464165 0.54670175\n",
      "        nan        nan 0.5627662  0.53446175 0.52070417        nan\n",
      "        nan        nan 0.58123774 0.55956915 0.59376218 0.52036561\n",
      "        nan        nan        nan 0.5674197  0.56893086        nan\n",
      " 0.58532856 0.58507652 0.52169301        nan 0.58541439        nan\n",
      "        nan 0.60035919 0.55415198        nan 0.52246357 0.56865357\n",
      " 0.5943215  0.51432098        nan        nan 0.58668305        nan\n",
      " 0.58662347 0.53842367 0.53251397        nan 0.58475572 0.57826398\n",
      " 0.56798234 0.56855902 0.5437275  0.56603683 0.56665318 0.54438011\n",
      "        nan 0.52130373        nan 0.5614549  0.55399986 0.5701038\n",
      " 0.58908786 0.60107834 0.57940978 0.53680391]\n",
      "  warnings.warn(\n"
     ]
    },
    {
     "name": "stdout",
     "output_type": "stream",
     "text": [
      "Best Parameters: {'n_estimators': 400, 'min_samples_split': 2, 'min_samples_leaf': 1, 'max_features': 'sqrt', 'max_depth': 30}\n",
      "Best Score: -0.601078343905942\n",
      "Mean Absolute Error after fine-tuning: 1.8380118088749051\n"
     ]
    }
   ],
   "source": [
    "from sklearn.model_selection import RandomizedSearchCV\n",
    "from sklearn.ensemble import RandomForestRegressor\n",
    "from sklearn.metrics import mean_absolute_error\n",
    "import numpy as np\n",
    "\n",
    "# Initialize the base model\n",
    "regressor = RandomForestRegressor(random_state=42)\n",
    "\n",
    "# Define the parameter grid to search\n",
    "param_grid = {\n",
    "    'n_estimators': [100, 200, 300, 400, 500],  # Number of trees in the forest\n",
    "    'max_depth': [None, 10, 20, 30, 40, 50],  # Maximum number of levels in tree\n",
    "    'min_samples_split': [2, 5, 10],  # Minimum number of samples required to split a node\n",
    "    'min_samples_leaf': [1, 2, 4],  # Minimum number of samples required at each leaf node\n",
    "    'max_features': ['auto', 'sqrt', 'log2']  # Number of features to consider at every split\n",
    "}\n",
    "\n",
    "# Setup the random search with 4-fold cross validation\n",
    "random_search = RandomizedSearchCV(estimator=regressor, param_distributions=param_grid, n_iter=100, cv=4, verbose=2, random_state=42, n_jobs=-1)\n",
    "\n",
    "# Fit the random search model\n",
    "random_search.fit(X_train, y_duration_train)\n",
    "\n",
    "# Print the best parameters and best score\n",
    "print(\"Best Parameters:\", random_search.best_params_)\n",
    "print(\"Best Score:\", -random_search.best_score_)\n",
    "\n",
    "# Predict on the validation set using the best found parameters\n",
    "y_pred_val = random_search.predict(X_val)\n",
    "\n",
    "# Evaluate the model\n",
    "mae = mean_absolute_error(y_duration_val, y_pred_val)\n",
    "print(f'Mean Absolute Error after fine-tuning: {mae}')\n"
   ]
  },
  {
   "cell_type": "markdown",
   "metadata": {},
   "source": [
    "Alternative Performance Metrics (RMSE and MSE)\n",
    "To evaluate the model with Root Mean Squared Error (RMSE) and Mean Squared Error (MSE), we can use mean_squared_error from sklearn.metrics and then calculate RMSE from MSE."
   ]
  },
  {
   "cell_type": "code",
   "execution_count": 14,
   "metadata": {},
   "outputs": [
    {
     "name": "stdout",
     "output_type": "stream",
     "text": [
      "Mean Squared Error: 8.8322538017619\n",
      "Root Mean Squared Error: 2.9719107997653462\n"
     ]
    }
   ],
   "source": [
    "from sklearn.metrics import mean_squared_error\n",
    "import numpy as np\n",
    "\n",
    "# Calculate MSE\n",
    "mse = mean_squared_error(y_duration_val, y_pred_val)\n",
    "\n",
    "# Calculate RMSE\n",
    "rmse = np.sqrt(mse)\n",
    "\n",
    "print(f'Mean Squared Error: {mse}')\n",
    "print(f'Root Mean Squared Error: {rmse}')\n"
   ]
  },
  {
   "cell_type": "markdown",
   "metadata": {},
   "source": [
    "Regularization with Lasso (L1) or Ridge (L2) Regression\n",
    "Let's try Lasso for L1 regularization and Ridge for L2 regularization."
   ]
  },
  {
   "cell_type": "code",
   "execution_count": 15,
   "metadata": {},
   "outputs": [
    {
     "name": "stdout",
     "output_type": "stream",
     "text": [
      "Lasso Regression MAE: 1.9400628037891232\n",
      "Ridge Regression MAE: 1.8738096251027374\n"
     ]
    }
   ],
   "source": [
    "from sklearn.linear_model import Lasso, Ridge\n",
    "\n",
    "# Lasso Regression (L1 Regularization)\n",
    "lasso_regressor = Lasso(alpha=0.1, random_state=42)  # Adjust alpha as needed\n",
    "lasso_regressor.fit(X_train, y_duration_train)\n",
    "y_pred_val_lasso = lasso_regressor.predict(X_val)\n",
    "mae_lasso = mean_absolute_error(y_duration_val, y_pred_val_lasso)\n",
    "print(f'Lasso Regression MAE: {mae_lasso}')\n",
    "\n",
    "# Ridge Regression (L2 Regularization)\n",
    "ridge_regressor = Ridge(alpha=1, random_state=42)  # Adjust alpha as needed\n",
    "ridge_regressor.fit(X_train, y_duration_train)\n",
    "y_pred_val_ridge = ridge_regressor.predict(X_val)\n",
    "mae_ridge = mean_absolute_error(y_duration_val, y_pred_val_ridge)\n",
    "print(f'Ridge Regression MAE: {mae_ridge}')\n"
   ]
  },
  {
   "cell_type": "markdown",
   "metadata": {},
   "source": [
    "Different Regression Algorithms\n",
    "Let's implement Linear Regression and Gradient Boosting Regression as alternatives."
   ]
  },
  {
   "cell_type": "code",
   "execution_count": 16,
   "metadata": {},
   "outputs": [
    {
     "name": "stdout",
     "output_type": "stream",
     "text": [
      "Linear Regression MAE: 1.8741923990915783\n",
      "Gradient Boosting Regression MAE: 1.8256202007915394\n"
     ]
    }
   ],
   "source": [
    "from sklearn.linear_model import LinearRegression\n",
    "from sklearn.ensemble import GradientBoostingRegressor\n",
    "\n",
    "# Linear Regression\n",
    "linear_regressor = LinearRegression()\n",
    "linear_regressor.fit(X_train, y_duration_train)\n",
    "y_pred_val_linear = linear_regressor.predict(X_val)\n",
    "mae_linear = mean_absolute_error(y_duration_val, y_pred_val_linear)\n",
    "print(f'Linear Regression MAE: {mae_linear}')\n",
    "\n",
    "# Gradient Boosting Regression\n",
    "gbr_regressor = GradientBoostingRegressor(random_state=42)\n",
    "gbr_regressor.fit(X_train, y_duration_train)\n",
    "y_pred_val_gbr = gbr_regressor.predict(X_val)\n",
    "mae_gbr = mean_absolute_error(y_duration_val, y_pred_val_gbr)\n",
    "print(f'Gradient Boosting Regression MAE: {mae_gbr}')"
   ]
  },
  {
   "cell_type": "markdown",
   "metadata": {},
   "source": [
    "Using Grid Search CV "
   ]
  },
  {
   "cell_type": "code",
   "execution_count": 17,
   "metadata": {},
   "outputs": [
    {
     "name": "stdout",
     "output_type": "stream",
     "text": [
      "Best parameters: {'learning_rate': 0.1, 'max_depth': 8, 'min_samples_leaf': 20, 'n_estimators': 100}\n",
      "Best score (negative MAE): -1.8583869361249519\n"
     ]
    }
   ],
   "source": [
    "from sklearn.ensemble import GradientBoostingRegressor\n",
    "from sklearn.model_selection import GridSearchCV\n",
    "\n",
    "# Define the model\n",
    "gbr = GradientBoostingRegressor(random_state=42)\n",
    "\n",
    "# Define the hyperparameter grid\n",
    "param_grid = {\n",
    "    'learning_rate': [0.01, 0.1, 0.5, 1],\n",
    "    'n_estimators': [100, 200, 300],\n",
    "    'max_depth': [3, 5, 8],\n",
    "    'min_samples_leaf': [10, 20, 30]\n",
    "}\n",
    "\n",
    "# Set up GridSearchCV\n",
    "grid_search = GridSearchCV(estimator=gbr, param_grid=param_grid, cv=5, scoring='neg_mean_absolute_error', n_jobs=-1)\n",
    "\n",
    "# Fit to the training data\n",
    "grid_search.fit(X_train, y_duration_train)\n",
    "\n",
    "# Best parameters and best score\n",
    "print(\"Best parameters:\", grid_search.best_params_)\n",
    "print(\"Best score (negative MAE):\", grid_search.best_score_)\n"
   ]
  },
  {
   "cell_type": "markdown",
   "metadata": {},
   "source": [
    "Using RandomizedSearchCV"
   ]
  },
  {
   "cell_type": "code",
   "execution_count": 18,
   "metadata": {},
   "outputs": [
    {
     "name": "stdout",
     "output_type": "stream",
     "text": [
      "Best parameters: {'learning_rate': 0.0443885211152184, 'max_depth': 8, 'min_samples_leaf': 26, 'n_estimators': 149}\n",
      "Best score (negative MAE): -1.8554564818840125\n"
     ]
    }
   ],
   "source": [
    "from sklearn.model_selection import RandomizedSearchCV\n",
    "from scipy.stats import uniform, randint\n",
    "from sklearn.ensemble import GradientBoostingRegressor\n",
    "\n",
    "# Define the model\n",
    "gbr = GradientBoostingRegressor(random_state=42)\n",
    "\n",
    "# Define the hyperparameter distribution\n",
    "param_dist = {\n",
    "    'learning_rate': uniform(0.01, 1),  # Continuous distribution from 0.01 to 1.01\n",
    "    'n_estimators': randint(100, 400),  # Discrete uniform distribution from 100 to 400\n",
    "    'max_depth': randint(3, 9),  # Discrete uniform distribution from 3 to 9\n",
    "    'min_samples_leaf': randint(10, 31)  # Discrete uniform distribution from 10 to 31\n",
    "}\n",
    "\n",
    "# Set up RandomizedSearchCV\n",
    "random_search = RandomizedSearchCV(estimator=gbr, param_distributions=param_dist, n_iter=50, cv=5, scoring='neg_mean_absolute_error', n_jobs=-1, random_state=42)\n",
    "\n",
    "# Fit to the training data\n",
    "random_search.fit(X_train, y_duration_train)\n",
    "\n",
    "# Best parameters and best score\n",
    "print(\"Best parameters:\", random_search.best_params_)\n",
    "print(\"Best score (negative MAE):\", random_search.best_score_)\n"
   ]
  },
  {
   "cell_type": "markdown",
   "metadata": {},
   "source": [
    "Classification Model for Categorizing Risk Levels"
   ]
  },
  {
   "cell_type": "code",
   "execution_count": 19,
   "metadata": {},
   "outputs": [
    {
     "name": "stdout",
     "output_type": "stream",
     "text": [
      "Accuracy: 0.9660611854684512\n"
     ]
    }
   ],
   "source": [
    "# Extracting the indices of rows that are not 'DAMA' (i.e., either 'DISCHARGE' or 'EXPIRY')\n",
    "non_dama_indices = transformed_df[transformed_df['outcome_e'].isin([0, 1])].index\n",
    "\n",
    "# Adjust features dataset to match the risk labels by selecting the same indices\n",
    "X_risk = X.loc[non_dama_indices]\n",
    "\n",
    "# Split the data for classification task\n",
    "X_train_risk, X_temp_risk, y_risk_train, y_risk_temp = train_test_split(X_risk, transformed_df.loc[non_dama_indices, 'outcome_e'], test_size=0.3, random_state=42)\n",
    "X_val_risk, X_test_risk, y_risk_val, y_risk_test = train_test_split(X_temp_risk, y_risk_temp, test_size=0.5, random_state=42)\n",
    "\n",
    "# The rest of the classification model code remains the same as before\n",
    "# Classification Model\n",
    "from sklearn.ensemble import RandomForestClassifier\n",
    "from sklearn.metrics import accuracy_score\n",
    "\n",
    "# Initialize the model\n",
    "classifier = RandomForestClassifier(random_state=42)\n",
    "\n",
    "# Train the model\n",
    "classifier.fit(X_train_risk, y_risk_train)\n",
    "\n",
    "# Predict on validation set\n",
    "y_pred_risk_val = classifier.predict(X_val_risk)\n",
    "\n",
    "# Evaluate the model\n",
    "accuracy = accuracy_score(y_risk_val, y_pred_risk_val)\n",
    "print(f'Accuracy: {accuracy}')\n"
   ]
  },
  {
   "cell_type": "markdown",
   "metadata": {},
   "source": [
    "Saving the training model"
   ]
  },
  {
   "cell_type": "code",
   "execution_count": null,
   "metadata": {},
   "outputs": [],
   "source": [
    "import joblib\n",
    "\n",
    "# Assuming 'regressor' is your duration of stay model and 'classifier' is your risk level classification model\n",
    "joblib.dump(regressor, 'random_forest_regressor.joblib')\n",
    "joblib.dump(classifier, 'risk_level_classification_model.joblib')"
   ]
  }
 ],
 "metadata": {
  "kernelspec": {
   "display_name": "Python 3",
   "language": "python",
   "name": "python3"
  },
  "language_info": {
   "codemirror_mode": {
    "name": "ipython",
    "version": 3
   },
   "file_extension": ".py",
   "mimetype": "text/x-python",
   "name": "python",
   "nbconvert_exporter": "python",
   "pygments_lexer": "ipython3",
   "version": "3.11.8"
  }
 },
 "nbformat": 4,
 "nbformat_minor": 2
}
